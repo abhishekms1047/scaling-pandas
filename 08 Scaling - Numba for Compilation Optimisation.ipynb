{
 "cells": [
  {
   "cell_type": "code",
   "execution_count": 1,
   "metadata": {},
   "outputs": [],
   "source": [
    "import pandas as pd\n",
    "from numba import jit\n",
    "import numpy as np"
   ]
  },
  {
   "cell_type": "code",
   "execution_count": 2,
   "metadata": {},
   "outputs": [],
   "source": [
    "station_data = pd.read_csv(\"datasets/station.csv\")"
   ]
  },
  {
   "cell_type": "markdown",
   "metadata": {},
   "source": [
    "### Compilation Optimizations\n",
    "\n",
    "So far, we have optimized the data dtypes to reduce the memory usage, parallelized the computation, but they say [python is inherently slow](https://jakevdp.github.io/blog/2014/05/09/why-python-is-slow/)\n",
    "\n",
    "- **Python is intrepreted not compiled.**\n",
    "    - Not knowing what's ahead in the code takes away the possibility of optimization ahead of computation.\n",
    "    \n",
    "- **Everything in python is an object..!**\n",
    "    - It is dynamically typed and compiler has no idea what the dtype of variable is.\n",
    "    \n",
    "- **And we have seen how python lists are stored..!!**\n",
    "\n",
    "We still use python because \n",
    "- It is **flexible** (need not share different execution files for different platforms..!)\n",
    "- Easy to use and understand\n",
    "- Reduced debugging time and flexibility leads to better development time\n",
    "- of course the community..!\n",
    "\n",
    "There have been several optimizations done for runtime compilations. One such is `jit` where some functions (user specified in most cases) are complied to bytecode and stored for reuse instead of recompiling during runtime. \n",
    "\n",
    "One such compiler is `LLVM` which Numba uses to optimize compilation. You can checkout the functions and dtypes hat are supported on Numba [here](https://numba.pydata.org/numba-doc/dev/reference/numpysupported.html)."
   ]
  },
  {
   "cell_type": "code",
   "execution_count": 3,
   "metadata": {},
   "outputs": [],
   "source": [
    "lat_long = station_data[['lat','long']]"
   ]
  },
  {
   "cell_type": "code",
   "execution_count": 4,
   "metadata": {},
   "outputs": [],
   "source": [
    "lat_long_list = lat_long.values.tolist()"
   ]
  },
  {
   "cell_type": "code",
   "execution_count": 5,
   "metadata": {},
   "outputs": [],
   "source": [
    "lat_long_array = np.asarray(lat_long_list)"
   ]
  },
  {
   "cell_type": "code",
   "execution_count": 6,
   "metadata": {},
   "outputs": [],
   "source": [
    "def pairwise_python(array):\n",
    "    m = array.shape[0]\n",
    "    n = array.shape[1]\n",
    "    D = np.empty((m, m), dtype=np.float)\n",
    "    for i in range(m):\n",
    "        for j in range(m):\n",
    "            d = 0.0\n",
    "            for k in range(n):\n",
    "                tmp = array[i, k] - array[j, k]\n",
    "                d += tmp * tmp\n",
    "            D[i, j] = np.sqrt(d)\n",
    "    return D"
   ]
  },
  {
   "cell_type": "code",
   "execution_count": 7,
   "metadata": {},
   "outputs": [],
   "source": [
    "@jit\n",
    "def pairwise_numba(array):\n",
    "    m = array.shape[0]\n",
    "    n = array.shape[1]\n",
    "    D = np.empty((m, m), dtype=np.float)\n",
    "    for i in range(m):\n",
    "        for j in range(m):\n",
    "            d = 0.0\n",
    "            for k in range(n):\n",
    "                tmp = array[i, k] - array[j, k]\n",
    "                d += tmp * tmp\n",
    "            D[i, j] = np.sqrt(d)\n",
    "    return D"
   ]
  },
  {
   "cell_type": "code",
   "execution_count": 8,
   "metadata": {},
   "outputs": [
    {
     "name": "stdout",
     "output_type": "stream",
     "text": [
      "CPU times: user 14 ms, sys: 287 µs, total: 14.3 ms\n",
      "Wall time: 14.2 ms\n"
     ]
    }
   ],
   "source": [
    "%%time\n",
    "a = pairwise_python(lat_long_array)"
   ]
  },
  {
   "cell_type": "code",
   "execution_count": 9,
   "metadata": {},
   "outputs": [
    {
     "name": "stdout",
     "output_type": "stream",
     "text": [
      "CPU times: user 272 ms, sys: 13.6 ms, total: 286 ms\n",
      "Wall time: 294 ms\n"
     ]
    }
   ],
   "source": [
    "%%time\n",
    "opt_a = pairwise_numba(lat_long_array)"
   ]
  },
  {
   "cell_type": "code",
   "execution_count": 10,
   "metadata": {},
   "outputs": [],
   "source": [
    "from numpy.random import random as randvec"
   ]
  },
  {
   "cell_type": "code",
   "execution_count": 11,
   "metadata": {},
   "outputs": [],
   "source": [
    "def get_rand_vec(n):\n",
    "    return randvec((1000, 3))"
   ]
  },
  {
   "cell_type": "code",
   "execution_count": 12,
   "metadata": {},
   "outputs": [
    {
     "name": "stdout",
     "output_type": "stream",
     "text": [
      "CPU times: user 3.25 s, sys: 9.86 ms, total: 3.26 s\n",
      "Wall time: 3.26 s\n"
     ]
    }
   ],
   "source": [
    "%%time\n",
    "a = pairwise_python(get_rand_vec(1000))"
   ]
  },
  {
   "cell_type": "code",
   "execution_count": 13,
   "metadata": {},
   "outputs": [
    {
     "name": "stdout",
     "output_type": "stream",
     "text": [
      "CPU times: user 6.67 ms, sys: 2.94 ms, total: 9.61 ms\n",
      "Wall time: 9.34 ms\n"
     ]
    }
   ],
   "source": [
    "%%time \n",
    "a_opt = pairwise_numba(get_rand_vec(1000))"
   ]
  },
  {
   "cell_type": "code",
   "execution_count": 14,
   "metadata": {},
   "outputs": [
    {
     "name": "stdout",
     "output_type": "stream",
     "text": [
      "CPU times: user 3.19 s, sys: 10.8 ms, total: 3.21 s\n",
      "Wall time: 3.21 s\n"
     ]
    }
   ],
   "source": [
    "%%time\n",
    "a = pairwise_python(get_rand_vec(3000))"
   ]
  },
  {
   "cell_type": "code",
   "execution_count": 15,
   "metadata": {},
   "outputs": [
    {
     "name": "stdout",
     "output_type": "stream",
     "text": [
      "CPU times: user 4.82 ms, sys: 73 µs, total: 4.89 ms\n",
      "Wall time: 4.86 ms\n"
     ]
    }
   ],
   "source": [
    "%%time \n",
    "a_opt = pairwise_numba(get_rand_vec(3000))"
   ]
  },
  {
   "cell_type": "markdown",
   "metadata": {},
   "source": [
    "### Scope for optimization\n",
    "\n",
    "We can see that this scales really well for us. This can be further optimised, by specifying the data types which are passed to function the dynamic typed issue with python.\n",
    "\n",
    "The data types can be passed as \n",
    " - **@jit**( `return dtype` ( `input dtypes` ) )\n",
    " \n",
    "This sort of compilation is called `Eager Compilation` where we pass the data types as opposed to `lazy compilation` where the dtypes are passed everytime.\n",
    "\n",
    "\n",
    "Moreover one `jit` decorated function can be called in another `jit` decorated function \n"
   ]
  },
  {
   "cell_type": "code",
   "execution_count": 16,
   "metadata": {},
   "outputs": [],
   "source": [
    "from numba import float64"
   ]
  },
  {
   "cell_type": "code",
   "execution_count": 17,
   "metadata": {},
   "outputs": [],
   "source": [
    "@jit(float64(float64, float64))\n",
    "def sqr_dist(coord1, coord2):\n",
    "    return (coord1 - coord2)**2"
   ]
  },
  {
   "cell_type": "code",
   "execution_count": 18,
   "metadata": {},
   "outputs": [],
   "source": [
    "@jit\n",
    "def pairwise_numba_with_dist(array):\n",
    "    m = array.shape[0]\n",
    "    n = array.shape[1]\n",
    "    D = np.empty((m, m), dtype=np.float)\n",
    "    for i in range(m):\n",
    "        for j in range(m):\n",
    "            d = 0.0\n",
    "            for k in range(n):\n",
    "                d += sqr_dist(array[i, k] , array[j, k])\n",
    "            D[i, j] = np.sqrt(d)\n",
    "    return D"
   ]
  },
  {
   "cell_type": "code",
   "execution_count": 19,
   "metadata": {},
   "outputs": [
    {
     "name": "stdout",
     "output_type": "stream",
     "text": [
      "CPU times: user 60 µs, sys: 1 µs, total: 61 µs\n",
      "Wall time: 64.8 µs\n"
     ]
    }
   ],
   "source": [
    "%%time\n",
    "opt_a = pairwise_numba(lat_long_array)"
   ]
  },
  {
   "cell_type": "code",
   "execution_count": 20,
   "metadata": {},
   "outputs": [
    {
     "name": "stdout",
     "output_type": "stream",
     "text": [
      "CPU times: user 205 ms, sys: 3.84 ms, total: 209 ms\n",
      "Wall time: 208 ms\n"
     ]
    }
   ],
   "source": [
    "%%time\n",
    "opt_b = pairwise_numba_with_dist((lat_long_array))"
   ]
  },
  {
   "cell_type": "code",
   "execution_count": 21,
   "metadata": {},
   "outputs": [
    {
     "name": "stdout",
     "output_type": "stream",
     "text": [
      "CPU times: user 5.37 ms, sys: 120 µs, total: 5.49 ms\n",
      "Wall time: 5.46 ms\n"
     ]
    }
   ],
   "source": [
    "%%time \n",
    "a_opt = pairwise_numba(get_rand_vec(1000))"
   ]
  },
  {
   "cell_type": "code",
   "execution_count": 22,
   "metadata": {},
   "outputs": [
    {
     "name": "stdout",
     "output_type": "stream",
     "text": [
      "CPU times: user 5.4 ms, sys: 529 µs, total: 5.93 ms\n",
      "Wall time: 5.38 ms\n"
     ]
    }
   ],
   "source": [
    "%%time \n",
    "a_opt = pairwise_numba_with_dist(get_rand_vec(1000))"
   ]
  },
  {
   "cell_type": "code",
   "execution_count": 23,
   "metadata": {},
   "outputs": [
    {
     "name": "stdout",
     "output_type": "stream",
     "text": [
      "CPU times: user 5.16 ms, sys: 386 µs, total: 5.55 ms\n",
      "Wall time: 5.17 ms\n"
     ]
    }
   ],
   "source": [
    "%%time \n",
    "a_opt = pairwise_numba(get_rand_vec(5000))"
   ]
  },
  {
   "cell_type": "code",
   "execution_count": 24,
   "metadata": {},
   "outputs": [
    {
     "name": "stdout",
     "output_type": "stream",
     "text": [
      "CPU times: user 5.1 ms, sys: 54 µs, total: 5.15 ms\n",
      "Wall time: 5.08 ms\n"
     ]
    }
   ],
   "source": [
    "%%time \n",
    "a_opt = pairwise_numba_with_dist(get_rand_vec(5000))"
   ]
  },
  {
   "cell_type": "markdown",
   "metadata": {},
   "source": [
    "### Any further optimization ?\n",
    "\n",
    "We didnot optimise the initial `jit` funtion where we passed array. \n",
    "\n",
    "Arrays can be passed to git as `dtype[:]`. Example a flaot array would be passed as `float32[:]`"
   ]
  },
  {
   "cell_type": "code",
   "execution_count": 25,
   "metadata": {},
   "outputs": [],
   "source": [
    "@jit(float64[:](float64[:]))\n",
    "def pairwise_numba_with_dist_overall(array):\n",
    "    m = array.shape[0]\n",
    "    n = array.shape[1]\n",
    "    D = np.empty((m, m), dtype=np.float)\n",
    "    for i in range(m):\n",
    "        for j in range(m):\n",
    "            d = 0.0\n",
    "            for k in range(n):\n",
    "                d += sqr_dist(array[i, k] , array[j, k])\n",
    "            D[i, j] = np.sqrt(d)\n",
    "    return D\n"
   ]
  },
  {
   "cell_type": "code",
   "execution_count": 26,
   "metadata": {},
   "outputs": [
    {
     "name": "stdout",
     "output_type": "stream",
     "text": [
      "CPU times: user 5.41 ms, sys: 536 µs, total: 5.95 ms\n",
      "Wall time: 5.42 ms\n"
     ]
    }
   ],
   "source": [
    "%%time \n",
    "a_opt = pairwise_numba_with_dist(get_rand_vec(5000))"
   ]
  },
  {
   "cell_type": "code",
   "execution_count": 27,
   "metadata": {},
   "outputs": [
    {
     "name": "stdout",
     "output_type": "stream",
     "text": [
      "CPU times: user 121 ms, sys: 3.31 ms, total: 125 ms\n",
      "Wall time: 123 ms\n"
     ]
    }
   ],
   "source": [
    "%%time \n",
    "a_opt = pairwise_numba_with_dist_overall(get_rand_vec(5000))"
   ]
  },
  {
   "cell_type": "code",
   "execution_count": 33,
   "metadata": {},
   "outputs": [
    {
     "name": "stdout",
     "output_type": "stream",
     "text": [
      "CPU times: user 4.84 ms, sys: 458 µs, total: 5.3 ms\n",
      "Wall time: 4.86 ms\n"
     ]
    }
   ],
   "source": [
    "%%time \n",
    "a_opt = pairwise_numba_with_dist(get_rand_vec(10000))"
   ]
  },
  {
   "cell_type": "code",
   "execution_count": 34,
   "metadata": {},
   "outputs": [
    {
     "name": "stdout",
     "output_type": "stream",
     "text": [
      "CPU times: user 4.87 ms, sys: 195 µs, total: 5.07 ms\n",
      "Wall time: 4.9 ms\n"
     ]
    }
   ],
   "source": [
    "%%time \n",
    "a_opt = pairwise_numba_with_dist_overall(get_rand_vec(10000))"
   ]
  },
  {
   "cell_type": "code",
   "execution_count": 35,
   "metadata": {},
   "outputs": [
    {
     "name": "stdout",
     "output_type": "stream",
     "text": [
      "CPU times: user 3.23 s, sys: 4.5 ms, total: 3.23 s\n",
      "Wall time: 3.23 s\n"
     ]
    }
   ],
   "source": [
    "%%time\n",
    "a = pairwise_python(get_rand_vec(10000))"
   ]
  },
  {
   "cell_type": "markdown",
   "metadata": {},
   "source": [
    "We have reduced the compilation time from ~3.5 seconds for 10000 data points to ~5 ms. Incredible 500x reduction in compute time.!!!\n",
    "\n",
    "There are further optimizations which can be done on top of this. Can check out the workings [here](https://numba.pydata.org/numba-doc/dev/user/jit.html)"
   ]
  },
  {
   "cell_type": "code",
   "execution_count": null,
   "metadata": {},
   "outputs": [],
   "source": []
  }
 ],
 "metadata": {
  "kernelspec": {
   "display_name": "Python 3",
   "language": "python",
   "name": "python3"
  },
  "language_info": {
   "codemirror_mode": {
    "name": "ipython",
    "version": 3
   },
   "file_extension": ".py",
   "mimetype": "text/x-python",
   "name": "python",
   "nbconvert_exporter": "python",
   "pygments_lexer": "ipython3",
   "version": "3.6.4"
  }
 },
 "nbformat": 4,
 "nbformat_minor": 2
}
